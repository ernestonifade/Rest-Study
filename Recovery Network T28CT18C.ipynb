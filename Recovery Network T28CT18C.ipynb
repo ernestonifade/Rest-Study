{
 "cells": [
  {
   "cell_type": "code",
   "execution_count": 83,
   "id": "12c122cc",
   "metadata": {},
   "outputs": [],
   "source": [
    "import pandas as pd\n",
    "import numpy as np\n",
    "import seaborn as sns\n",
    "import matplotlib.pyplot as plt\n",
    "import warnings\n",
    "warnings.filterwarnings(\"ignore\")\n",
    "from scipy.stats import spearmanr\n",
    "from statsmodels.stats.multitest import multipletests\n",
    "from sklearn.preprocessing import StandardScaler\n",
    "from matplotlib import colors\n",
    "import networkx as nx"
   ]
  },
  {
   "cell_type": "code",
   "execution_count": 84,
   "id": "86e9d12b",
   "metadata": {},
   "outputs": [],
   "source": [
    "df1 = pd.read_excel('T18C.xlsx')\n",
    "df2 = pd.read_excel('T28C.xlsx')"
   ]
  },
  {
   "cell_type": "code",
   "execution_count": 85,
   "id": "1b000045",
   "metadata": {},
   "outputs": [],
   "source": [
    "df = df2 - df1"
   ]
  },
  {
   "cell_type": "code",
   "execution_count": 86,
   "id": "2e48bdb6",
   "metadata": {},
   "outputs": [],
   "source": [
    "print(df)"
   ]
  },
  {
   "cell_type": "code",
   "execution_count": 87,
   "id": "13669df2",
   "metadata": {},
   "outputs": [],
   "source": [
    "df.isnull().sum()"
   ]
  },
  {
   "cell_type": "code",
   "execution_count": 88,
   "id": "3975e5e7",
   "metadata": {
    "scrolled": false
   },
   "outputs": [],
   "source": [
    "df.describe()"
   ]
  },
  {
   "cell_type": "code",
   "execution_count": 89,
   "id": "a3f2cc50",
   "metadata": {},
   "outputs": [],
   "source": [
    "columns = df.columns\n",
    "spearman_corr_matrix = pd.DataFrame(index=columns, columns=columns)\n",
    "p_values_matrix = pd.DataFrame(index=columns, columns=columns)\n",
    "\n",
    "for i in range(len(columns)):\n",
    "    for j in range(i, len(columns)):\n",
    "        col1, col2 = columns[i], columns[j]\n",
    "        spearman_corr, p_value = spearmanr(df[col1], df[col2])\n",
    "        spearman_corr_matrix.loc[col1, col2] = spearman_corr\n",
    "        spearman_corr_matrix.loc[col2, col1] = spearman_corr\n",
    "        p_values_matrix.loc[col1, col2] = p_value\n",
    "        p_values_matrix.loc[col2, col1] = p_value"
   ]
  },
  {
   "cell_type": "code",
   "execution_count": 90,
   "id": "4a81f2d2",
   "metadata": {},
   "outputs": [],
   "source": [
    "spearman_corr_matrix = spearman_corr_matrix.apply(pd.to_numeric, errors='coerce')\n",
    "#plt.figure(figsize=(60, 30))\n",
    "#sns.heatmap(spearman_corr_matrix, annot=True, cmap='coolwarm', fmt=\".2f\", linewidths=.5)\n",
    "#plt.title('Spearman Correlation Matrix')\n",
    "#plt.show()"
   ]
  },
  {
   "cell_type": "code",
   "execution_count": 91,
   "id": "f31da942",
   "metadata": {},
   "outputs": [],
   "source": [
    "p_values_matrix = p_values_matrix.apply(pd.to_numeric, errors='coerce')\n",
    "#plt.figure(figsize=(60, 30))\n",
    "#sns.heatmap( p_values_matrix, annot=True, cmap='coolwarm', fmt=\".2f\", linewidths=.5)\n",
    "#plt.title('P_values_matrix Correlation Matrix')\n",
    "#plt.show()"
   ]
  },
  {
   "cell_type": "code",
   "execution_count": 92,
   "id": "2ea14f57",
   "metadata": {},
   "outputs": [],
   "source": [
    "alpha=0.05\n",
    "p_values_flat = p_values_matrix.values.flatten()\n",
    "rejected, corrected_p_values, _, alpha_corrected = multipletests(p_values_flat, alpha=alpha, method='bonferroni')\n",
    "print(np.sum(rejected))\n",
    "print(alpha_corrected)"
   ]
  },
  {
   "cell_type": "code",
   "execution_count": 93,
   "id": "6ab7121e",
   "metadata": {},
   "outputs": [],
   "source": [
    "corrected_p_values_matrix = pd.DataFrame(corrected_p_values.reshape(p_values_matrix.shape), \n",
    "                                         index=columns, columns=columns)\n",
    "#plt.figure(figsize=(60, 30))\n",
    "#sns.heatmap(corrected_p_values_matrix, annot=True, cmap='coolwarm', fmt=\".2f\", linewidths=.5)\n",
    "#plt.title('P_values_matrix Correlation Matrix')\n",
    "#plt.show()\n"
   ]
  },
  {
   "cell_type": "code",
   "execution_count": 94,
   "id": "825bb904",
   "metadata": {},
   "outputs": [],
   "source": [
    "significance_level = 0.05\n",
    "significant_correlations = np.abs(p_values_matrix) < significance_level \n",
    "\n",
    "# Select only the upper triangle of the correlation matrix to avoid duplicates\n",
    "upper_triangle = np.triu(np.ones(p_values_matrix.shape), k=1)\n",
    "\n",
    "# Apply the significance filter and upper triangle mask\n",
    "significant_upper_triangle = np.logical_and(significant_correlations, upper_triangle)\n",
    "\n",
    "# Extract the indices of significant correlations\n",
    "result_indices = np.where(significant_upper_triangle)\n",
    "\n",
    "# Create a DataFrame to store the results\n",
    "results = pd.DataFrame({\n",
    "    'Variable1': spearman_corr_matrix.columns[result_indices[1]],\n",
    "    'Variable2': spearman_corr_matrix.columns[result_indices[0]],\n",
    "    'Correlation': spearman_corr_matrix.values[result_indices],\n",
    "    'P-Value': p_values_matrix.values[result_indices]\n",
    "})\n",
    "\n",
    "sorted_results = results.sort_values(by='Correlation')\n",
    "\n",
    "# Filter values that are greater than or equal to 0.5 or less than or equal to -0.5\n",
    "significant_results = sorted_results[(sorted_results['Correlation'] >= 0.5) | (sorted_results['Correlation'] <= -0.5)]\n",
    "# Display the significant results\n",
    "print(significant_results)"
   ]
  },
  {
   "cell_type": "code",
   "execution_count": 95,
   "id": "eb3f64c8",
   "metadata": {},
   "outputs": [],
   "source": [
    "duplicates_all_columns = significant_results[significant_results.duplicated(keep=False)]\n",
    "print(\"Rows with Duplicates Across All Columns:\")\n",
    "print(duplicates_all_columns)\n"
   ]
  },
  {
   "cell_type": "code",
   "execution_count": 96,
   "id": "ce7ce0de",
   "metadata": {},
   "outputs": [],
   "source": [
    "#excel_file_path = 'T222CT122C_coefficients.xlsx'\n",
    "#Save the DataFrame to an Excel file\n",
    "#significant_results.to_excel(excel_file_path, index=False)"
   ]
  },
  {
   "cell_type": "code",
   "execution_count": 97,
   "id": "f6ad138e",
   "metadata": {
    "scrolled": true
   },
   "outputs": [],
   "source": [
    "#!pip install --upgrade pyvis \n",
    "#!pip install --upgrade networkx\n",
    "#!pip install python-louvain\n"
   ]
  },
  {
   "cell_type": "code",
   "execution_count": 98,
   "id": "a92a6239",
   "metadata": {},
   "outputs": [],
   "source": [
    "#import plotly.io as pio\n",
    "#pio.renderers.default = 'notebook'  # Set the default renderer\n",
    "#pio.templates.default = 'plotly'   # Set the default template\n",
    "#pio.renderers['notebook'].cdn_resources = 'in_line'  # Use in-line resources"
   ]
  },
  {
   "cell_type": "code",
   "execution_count": 99,
   "id": "a0928d3d",
   "metadata": {},
   "outputs": [],
   "source": [
    "G = nx.from_pandas_edgelist(significant_results, source='Variable1', target='Variable2', edge_attr='Correlation', create_using=nx.Graph()) \n",
    "print(\"Number of nodes =\", G.number_of_nodes()) \n",
    "print(\"Number of edges =\", G.number_of_edges())"
   ]
  },
  {
   "cell_type": "code",
   "execution_count": null,
   "id": "960c4fb3",
   "metadata": {
    "scrolled": false
   },
   "outputs": [],
   "source": [
    "from pyvis.network import Network\n",
    "net = Network(notebook=True, height='750px', width='100%', bgcolor='#222222', font_color='white', cdn_resources='remote')\n",
    "node_degree = dict(G.degree)\n",
    "nx.set_node_attributes(G, node_degree, 'size')\n",
    "net.from_nx(G)\n",
    "net.show(\"graph_visualization.html\")"
   ]
  },
  {
   "cell_type": "code",
   "execution_count": null,
   "id": "2ee31841",
   "metadata": {},
   "outputs": [],
   "source": [
    "m_net = Network(notebook=True, height='750px', width='100%', bgcolor='#222222', font_color='white')\n",
    "m_net.barnes_hut()\n",
    "source = significant_results['Variable1']\n",
    "target = significant_results['Variable2'] \n",
    "weight = significant_results['Correlation']\n",
    "\n",
    "edge_data = zip(source, target, weight)\n",
    "for e in edge_data:\n",
    "    src = e[0]\n",
    "    dst = e[1]\n",
    "    w = e[2]\n",
    "    \n",
    "    m_net.add_node(src, src, title=src)\n",
    "    m_net.add_node(dst, dst, title=dst)\n",
    "    m_net.add_edge(src, dst, value=w)"
   ]
  },
  {
   "cell_type": "code",
   "execution_count": null,
   "id": "aa38b2c6",
   "metadata": {
    "scrolled": false
   },
   "outputs": [],
   "source": [
    "neighbour_map = m_net.get_adj_list()\n",
    "for node in m_net.nodes:\n",
    "    \n",
    "    node['title'] += ' Neighbours:\\n{}'.format('\\n'.join(neighbour_map[node['id']]))\n",
    "    node['value'] = len(neighbour_map[node['id']])\n",
    "    \n",
    "m_net.show(\"graph_visualization.html\")"
   ]
  },
  {
   "cell_type": "code",
   "execution_count": null,
   "id": "67430b60",
   "metadata": {},
   "outputs": [],
   "source": [
    "degree_dict = nx.degree_centrality(G)\n"
   ]
  },
  {
   "cell_type": "code",
   "execution_count": null,
   "id": "0515018b",
   "metadata": {},
   "outputs": [],
   "source": [
    "degree_df = pd.DataFrame.from_dict(degree_dict, orient='index', columns=['centrality'])\n",
    "metabolites = [               \n",
    "                'IFN-y (21)_T1',\n",
    "                'IL-10 (56)_T1',\n",
    "               'IL-11 (39)_T1',  \n",
    "         'IL-12(p40) (28)_T1',\n",
    "          'IL-12(p70) (75)_T1',\n",
    "               'IL-20 (30)_T1',\n",
    "    'IL-28A/IFN-lambda2 (66)_T1',\n",
    "    'IL-29/IFN-lambda1 (33)_T1',  \n",
    "               'MMP-1 (43)_T1',\n",
    "               'MMP-3 (45)_T1',\n",
    "   '3-OH-Butanoic Acid (2TMS)',  \n",
    "               'Lysine (4TMS)',\n",
    "         'Palmitic Acid (TMS)']\n",
    "\n",
    "dc = degree_df.loc[metabolites, 'centrality']\n",
    "top_10_degree_df = dc.sort_values(ascending=False)\n",
    "\n",
    "# Create a bar plot using Seaborn\n",
    "plt.figure(figsize=(6, 4))\n",
    "sns.barplot(y=top_10_degree_df.index, x=top_10_degree_df.values, palette='muted')\n",
    "\n",
    "plt.title('Significant Metabolites by Degree Centrality')\n",
    "plt.xlabel('Centrality')\n",
    "plt.ylabel('Node')\n",
    "plt.show()"
   ]
  },
  {
   "cell_type": "code",
   "execution_count": null,
   "id": "517f5790",
   "metadata": {
    "scrolled": false
   },
   "outputs": [],
   "source": [
    "import matplotlib.cm as cm\n",
    "# Create a Pyvis Network instance\n",
    "net = Network(notebook=True,  height='750px', width='100%', bgcolor='#ffffff', font_color='blue')\n",
    "cmap = cm.get_cmap('magma')\n",
    "# Iterate over each node and add it to the network with color based on degree centrality\n",
    "for node, degree_centrality in degree_dict.items():\n",
    "    color = f'#{int(cmap(degree_centrality)[0] * 255):02x}'\\\n",
    "            f'{int(cmap(degree_centrality)[1] * 255):02x}' \\\n",
    "            f'{int(cmap(degree_centrality)[2] * 255):02x}'  # Color based on degree centrality\n",
    "    size = degree_centrality * 60\n",
    "    net.add_node(node, color=color, size=size)\n",
    "\n",
    "# Add edges to the Pyvis network\n",
    "net.from_nx(G)\n",
    "\n",
    "# Show the visualization in a notebook\n",
    "net.show('graph_visualization.html')"
   ]
  },
  {
   "cell_type": "code",
   "execution_count": null,
   "id": "d7bbe97f",
   "metadata": {},
   "outputs": [],
   "source": [
    "pip install python-louvain"
    "import community as community_louvain"
   ]
  },
  {
   "cell_type": "code",
   "execution_count": null,
   "id": "7d74c346",
   "metadata": {},
   "outputs": [],
   "source": [
    "random_seed = 42  # Choose any integer value as the seed\n",
    "\n",
    "communities = community_louvain.best_partition(G, random_state=random_seed)"
   ]
  },
  {
   "cell_type": "code",
   "execution_count": null,
   "id": "0cb1e34b",
   "metadata": {},
   "outputs": [],
   "source": [
    "communities"
   ]
  },
  {
   "cell_type": "code",
   "execution_count": null,
   "id": "338b4856",
   "metadata": {},
   "outputs": [],
   "source": [
    "df_communities = pd.DataFrame(list(communities.items()), columns=['Node', 'Community'])\n",
    "print(df_communities)"
   ]
  },
  {
   "cell_type": "code",
   "execution_count": null,
   "id": "b54cda7a",
   "metadata": {},
   "outputs": [],
   "source": [
    "df_communities['Community'].value_counts()"
   ]
  },
  {
   "cell_type": "code",
   "execution_count": null,
   "id": "c67ca93e",
   "metadata": {},
   "outputs": [],
   "source": [
    "excel_file_path = 'Recovery Time2_communities.xlsx'\n",
    "\n",
    "# Save the DataFrame to an Excel file\n",
    "df_communities.to_excel(excel_file_path, index=False)\n",
    "\n",
    "#import json\n",
    "\n",
    "#file_path = 'communities.json'\n",
    "#with open(file_path, 'w') as json_file:\n",
    "    #json.dump(communities, json_file)"
   ]
  },
  {
   "cell_type": "code",
   "execution_count": null,
   "id": "4a9b7e70",
   "metadata": {},
   "outputs": [],
   "source": [
    "node_degree = dict(G.degree)\n",
    "nx.set_node_attributes(G, communities, 'group')\n",
    "nx.set_node_attributes(G, node_degree, 'size')"
   ]
  },
  {
   "cell_type": "code",
   "execution_count": null,
   "id": "a3441d43",
   "metadata": {},
   "outputs": [],
   "source": [
    "comm_net = Network(notebook=True, height='750px', width='100%', bgcolor='#222222', font_color='white')\n",
    "comm_net.from_nx(G)\n",
    "comm_net.show(\"graph_visualization.html\")"
   ]
  },
  {
   "cell_type": "code",
   "execution_count": null,
   "id": "1ec90196",
   "metadata": {},
   "outputs": [],
   "source": [
    "community_colors = {\n",
    "    0: '#ff0000',  # Red\n",
    "    1: '#00ff00',  # Green\n",
    "    2: '#0000ff',  # Blue\n",
    "    3: '#ffa500',  # Orange\n",
    "    4: '#800080',  # Purple\n",
    "    #5: '#ffff00',  # Yellow\n",
    "    #6: '#008080',  # Teal\n",
    "    #7: '#ff00ff',  # Magenta\n",
    "    #8: '#ffa07a',  # Light Salmon\n",
    "    # Add more colors for additional communities as needed\n",
    "}\n",
    "# Create a Pyvis Network instance\n",
    "net = Network(notebook=True, height='750px', width='100%', bgcolor='#222222', font_color='white')\n",
    "\n",
    "# Iterate over each community\n",
    "for community_id, color in community_colors.items():\n",
    "    # Create a subgraph for the current community\n",
    "    subgraph_nodes = [node for node, comm_id in communities.items() if comm_id == community_id]\n",
    "    subgraph = G.subgraph(subgraph_nodes)\n",
    "\n",
    "    # Add nodes and edges to the Pyvis network with the assigned color\n",
    "    for node in subgraph.nodes():\n",
    "        net.add_node(node, color=color)\n",
    "\n",
    "    for edge in subgraph.edges():\n",
    "        net.add_edge(edge[0], edge[1])\n",
    "\n",
    "# Show the visualization in a notebook\n",
    "net.show('community_visualization.html')"
   ]
  }
 ],
 "metadata": {
  "kernelspec": {
   "display_name": "Python 3 (ipykernel)",
   "language": "python",
   "name": "python3"
  }
 },
 "nbformat": 4,
 "nbformat_minor": 5
}
