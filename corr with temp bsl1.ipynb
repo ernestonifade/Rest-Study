{
 "cells": [
  {
   "cell_type": "code",
   "execution_count": null,
   "id": "6180e9e5",
   "metadata": {},
   "outputs": [],
   "source": [
    "import pandas as pd\n",
    "import seaborn as sns\n",
    "import matplotlib.pyplot as plt\n",
    "import scipy.stats as stats\n",
    "import numpy as np\n",
    "from sklearn.preprocessing import StandardScaler\n",
    "from sklearn.model_selection import train_test_split\n",
    "from sklearn.metrics import mean_squared_error\n",
    "import warnings\n",
    "from scipy.stats import spearmanr\n",
    "from statsmodels.stats.multitest import multipletests\n",
    "warnings.filterwarnings(\"ignore\")"
   ]
  },
  {
   "cell_type": "markdown",
   "id": "95901045",
   "metadata": {},
   "source": [
    "# Correlation Between Metabolites/Cytokines and Temperature T1"
   ]
  },
  {
   "cell_type": "code",
   "execution_count": null,
   "id": "c928c9e1",
   "metadata": {},
   "outputs": [],
   "source": [
    "df1 = pd.read_excel('C:/Users/onifa/Downloads/rest/T1.xlsx')\n",
    "temp4 = df1.iloc[:, 11:17]\n",
    "metacyte = df1.iloc[:, 17:130]\n",
    "concat = [metacyte, temp4 ]\n",
    "metacyte_temp = pd.concat(concat, axis=1)"
   ]
  },
  {
   "cell_type": "code",
   "execution_count": null,
   "id": "20120525",
   "metadata": {},
   "outputs": [],
   "source": [
    "columns = metacyte_temp.columns\n",
    "spearman_corr_matrix = pd.DataFrame(index=columns, columns=columns)\n",
    "p_values_matrix = pd.DataFrame(index=columns, columns=columns)\n",
    "\n",
    "for i in range(len(columns)):\n",
    "    for j in range(i, len(columns)):\n",
    "        col1, col2 = columns[i], columns[j]\n",
    "        spearman_corr, p_value = spearmanr(metacyte_temp[col1], metacyte_temp[col2])\n",
    "        spearman_corr_matrix.loc[col1, col2] = spearman_corr\n",
    "        spearman_corr_matrix.loc[col2, col1] = spearman_corr\n",
    "        p_values_matrix.loc[col1, col2] = p_value\n",
    "        p_values_matrix.loc[col2, col1] = p_value\n",
    "\n",
    "spearman_corr_matrix = spearman_corr_matrix.apply(pd.to_numeric, errors='coerce')"
   ]
  },
  {
   "cell_type": "code",
   "execution_count": null,
   "id": "9263c38f",
   "metadata": {},
   "outputs": [],
   "source": [
    "significance_level = 0.05\n",
    "significant_correlations = np.abs(p_values_matrix) < significance_level \n",
    "\n",
    "# Select only the upper triangle of the correlation matrix to avoid duplicates\n",
    "upper_triangle = np.triu(np.ones(p_values_matrix.shape), k=1)\n",
    "\n",
    "# Apply the significance filter and upper triangle mask\n",
    "significant_upper_triangle = np.logical_and(significant_correlations, upper_triangle)\n",
    "\n",
    "# Extract the indices of significant correlations\n",
    "significant_indices = np.where(significant_upper_triangle)\n",
    "\n",
    "# Create a DataFrame to store the results\n",
    "significant_results = pd.DataFrame({\n",
    "    'Variable1': spearman_corr_matrix.columns[significant_indices[1]],\n",
    "    'Variable2': spearman_corr_matrix.columns[significant_indices[0]],\n",
    "    'Correlation': spearman_corr_matrix.values[significant_indices],\n",
    "    'P-Value': p_values_matrix.values[significant_indices]\n",
    "})"
   ]
  },
  {
   "cell_type": "code",
   "execution_count": null,
   "id": "608a303d",
   "metadata": {},
   "outputs": [],
   "source": [
    "# Filter values above 0.7\n",
    "filtered_df = significant_results[(significant_results['Correlation'] >= 0.5) | (significant_results['Correlation'] <= -0.5)]\n",
    "\n",
    "# Sort by the 'correlation' column in descending order\n",
    "sorted_df = filtered_df.sort_values(by='Correlation', ascending=False)\n",
    "\n",
    "# Display the sorted DataFrame\n",
    "print(sorted_df)"
   ]
  },
  {
   "cell_type": "code",
   "execution_count": null,
   "id": "1cd67dff",
   "metadata": {},
   "outputs": [],
   "source": [
    "mask = sorted_df['Variable1'].isin(temp4) & sorted_df['Variable2'].isin(metacyte)\n",
    "\n",
    "# Use the mask to select rows containing both 'variable 1' and 'variable 2' in the metabolites list\n",
    "filtered_df = sorted_df[mask]\n",
    "\n",
    "# Display the filtered DataFrame\n",
    "print(filtered_df)"
   ]
  },
  {
   "cell_type": "code",
   "execution_count": null,
   "id": "5da8e7f5",
   "metadata": {},
   "outputs": [],
   "source": [
    "corr = {\n",
    "    'Source': [\n",
    "        'Mean Tskin', 'Mean Tskin', 'Muscle temp2' \n",
    "    ],\n",
    "    'Target': [\n",
    "        \"Lysine\",\n",
    " \"MMP-2 (26)_T1\",\n",
    " '1-Monopalmitin'\n",
    "    ],\n",
    "    'Correlation': [\n",
    "        0.576418,\n",
    "0.544383,\n",
    " 0.522606\n",
    "    ]\n",
    "}\n",
    "\n",
    "\n",
    "links_df = pd.DataFrame(corr)"
   ]
  },
  {
   "cell_type": "code",
   "execution_count": null,
   "id": "eae9096e",
   "metadata": {},
   "outputs": [],
   "source": [
    "import holoviews as hv\n",
    "from holoviews import opts, dim\n",
    "import holoviews.plotting.bokeh\n",
    "hv.extension('bokeh')\n",
    "hv.output(size=200)\n",
    "\n",
    "links_df = pd.DataFrame(corr)\n",
    "\n",
    "# Sample nodes data\n",
    "nodes = [\n",
    "        'Mean Tskin', 'Mean Tskin', 'Muscle temp2',\n",
    "        \"Lysine\", \"MMP-2 (26)_T1\", '1-Monopalmitin']\n",
    "\n",
    "nodes_df = pd.DataFrame(nodes)\n",
    "nodes_df.rename(columns={nodes_df.columns[0]: 'node'}, inplace=True)\n",
    "node = hv.Dataset(pd.DataFrame(nodes_df['node']))\n",
    "\n",
    "# Create HoloViews Chord Diagram\n",
    "chord = hv.Chord((links_df, node)).select(value=(None, None))\n",
    "\n",
    "#custom_colormap = {True: 'blue', False: 'red'}\n",
    "#links_df['Positive'] = links_df['Value'] > 0\n",
    "#edge_colors = links_df['Positive'].map(custom_colormap)\n",
    "\n",
    "\n",
    "# Customize chart options\n",
    "chord.opts(opts.Chord(cmap='Category20', \n",
    "                edge_cmap='Category20',\n",
    "                edge_color=dim('Source').str(),\n",
    "                labels='node',\n",
    "                edge_line_width=4,\n",
    "                node_color=dim('node').str(),\n",
    "                label_text_font_size='12pt'))\n"
   ]
  }
 ],
 "metadata": {
  "kernelspec": {
   "display_name": "Python 3 (ipykernel)",
   "language": "python",
   "name": "python3"
  },
  "language_info": {
   "codemirror_mode": {
    "name": "ipython",
    "version": 3
   },
   "file_extension": ".py",
   "mimetype": "text/x-python",
   "name": "python",
   "nbconvert_exporter": "python",
   "pygments_lexer": "ipython3",
   "version": "3.9.13"
  }
 },
 "nbformat": 4,
 "nbformat_minor": 5
}
