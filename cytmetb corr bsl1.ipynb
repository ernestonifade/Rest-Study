{
 "cells": [
  {
   "cell_type": "code",
   "execution_count": 1,
   "id": "12c122cc",
   "metadata": {},
   "outputs": [],
   "source": [
    "import pandas as pd\n",
    "import numpy as np\n",
    "import seaborn as sns\n",
    "import matplotlib.pyplot as plt\n",
    "import warnings\n",
    "warnings.filterwarnings(\"ignore\")\n",
    "from scipy.stats import spearmanr\n",
    "from statsmodels.stats.multitest import multipletests\n",
    "from sklearn.preprocessing import StandardScaler\n",
    "from matplotlib import colors\n",
    "import networkx as nx"
   ]
  },
  {
   "cell_type": "code",
   "execution_count": 2,
   "id": "86e9d12b",
   "metadata": {},
   "outputs": [],
   "source": [
    "df1 = pd.read_excel('T18C.xlsx')\n",
    "df2 = pd.read_excel('T115C.xlsx')\n",
    "df3 = pd.read_excel('T122C.xlsx')"
   ]
  },
  {
   "cell_type": "code",
   "execution_count": 3,
   "id": "1b000045",
   "metadata": {},
   "outputs": [],
   "source": [
    "combined_data = [df1, df2, df3]\n",
    "df = pd.concat(combined_data, axis=0, ignore_index=True)"
   ]
  },
  {
   "cell_type": "code",
   "execution_count": 4,
   "id": "2e48bdb6",
   "metadata": {},
   "outputs": [],
   "source": [
    "print(df)"
   ]
  },
  {
   "cell_type": "code",
   "execution_count": 5,
   "id": "13669df2",
   "metadata": {},
   "outputs": [],
   "source": [
    "df.isnull().sum()"
   ]
  },
  {
   "cell_type": "code",
   "execution_count": 6,
   "id": "3975e5e7",
   "metadata": {
    "scrolled": false
   },
   "outputs": [],
   "source": [
    "df.describe()"
   ]
  },
  {
   "cell_type": "code",
   "execution_count": 7,
   "id": "a3f2cc50",
   "metadata": {},
   "outputs": [],
   "source": [
    "columns = df.columns\n",
    "spearman_corr_matrix = pd.DataFrame(index=columns, columns=columns)\n",
    "p_values_matrix = pd.DataFrame(index=columns, columns=columns)\n",
    "\n",
    "for i in range(len(columns)):\n",
    "    for j in range(i, len(columns)):\n",
    "        col1, col2 = columns[i], columns[j]\n",
    "        spearman_corr, p_value = spearmanr(df[col1], df[col2])\n",
    "        spearman_corr_matrix.loc[col1, col2] = spearman_corr\n",
    "        spearman_corr_matrix.loc[col2, col1] = spearman_corr\n",
    "        p_values_matrix.loc[col1, col2] = p_value\n",
    "        p_values_matrix.loc[col2, col1] = p_value"
   ]
  },
  {
   "cell_type": "code",
   "execution_count": 8,
   "id": "4a81f2d2",
   "metadata": {},
   "outputs": [],
   "source": [
    "spearman_corr_matrix = spearman_corr_matrix.apply(pd.to_numeric, errors='coerce')\n",
    "plt.figure(figsize=(60, 30))\n",
    "sns.heatmap(spearman_corr_matrix, annot=True, cmap='coolwarm', fmt=\".2f\", linewidths=.5)\n",
    "plt.title('Spearman Correlation Matrix')\n",
    "plt.show()"
   ]
  },
  {
   "cell_type": "code",
   "execution_count": 9,
   "id": "f31da942",
   "metadata": {},
   "outputs": [],
   "source": [
    "p_values_matrix = p_values_matrix.apply(pd.to_numeric, errors='coerce')\n",
    "plt.figure(figsize=(60, 30))\n",
    "sns.heatmap( p_values_matrix, annot=True, cmap='coolwarm', fmt=\".2f\", linewidths=.5)\n",
    "plt.title('P_values_matrix Correlation Matrix')\n"
   ]
  },
  {
   "cell_type": "code",
   "execution_count": 10,
   "id": "2ea14f57",
   "metadata": {},
   "outputs": [],
   "source": [
    "alpha=0.05\n",
    "p_values_flat = p_values_matrix.values.flatten()\n",
    "rejected, corrected_p_values, _, alpha_corrected = multipletests(p_values_flat, alpha=alpha, method='bonferroni')\n",
    "print(np.sum(rejected))\n",
    "print(alpha_corrected)"
   ]
  },
  {
   "cell_type": "code",
   "execution_count": 11,
   "id": "6ab7121e",
   "metadata": {},
   "outputs": [],
   "source": [
    "corrected_p_values_matrix = pd.DataFrame(corrected_p_values.reshape(p_values_matrix.shape), \n",
    "                                         index=columns, columns=columns)\n",
    "plt.figure(figsize=(60, 30))\n",
    "sns.heatmap(corrected_p_values_matrix, annot=True, cmap='coolwarm', fmt=\".2f\", linewidths=.5)\n",
    "plt.title('P_values_matrix Correlation Matrix')\n",
    "\n"
   ]
  },
  {
   "cell_type": "code",
   "execution_count": 12,
   "id": "d9ba8c24",
   "metadata": {},
   "outputs": [],
   "source": [
    "significance_level = 0.05\n",
    "significant_correlations = np.abs(p_values_matrix) < significance_level \n",
    "\n",
    "# Select only the upper triangle of the correlation matrix to avoid duplicates\n",
    "upper_triangle = np.triu(np.ones(p_values_matrix.shape), k=1)\n",
    "\n",
    "# Apply the significance filter and upper triangle mask\n",
    "significant_upper_triangle = np.logical_and(significant_correlations, upper_triangle)\n",
    "\n",
    "# Extract the indices of significant correlations\n",
    "result_indices = np.where(significant_upper_triangle)\n",
    "\n",
    "# Create a DataFrame to store the results\n",
    "results = pd.DataFrame({\n",
    "    'Variable1': spearman_corr_matrix.columns[result_indices[1]],\n",
    "    'Variable2': spearman_corr_matrix.columns[result_indices[0]],\n",
    "    'Correlation': spearman_corr_matrix.values[result_indices],\n",
    "    'P-Value': p_values_matrix.values[result_indices]\n",
    "})\n",
    "\n",
    "sorted_results = results.sort_values(by='Correlation')\n",
    "\n",
    "# Filter values that are greater than or equal to 0.5 or less than or equal to -0.5\n",
    "significant_results = sorted_results[(sorted_results['Correlation'] >= 0.5) | (sorted_results['Correlation'] <= -0.5)]\n",
    "# Display the significant results\n",
    "print(significant_results)"
   ]
  },
  {
   "cell_type": "code",
   "execution_count": 13,
   "id": "eb3f64c8",
   "metadata": {},
   "outputs": [],
   "source": [
    "duplicates_all_columns = significant_results[significant_results.duplicated(keep=False)]\n",
    "print(\"Rows with Duplicates Across All Columns:\")\n",
    "print(duplicates_all_columns)\n"
   ]
  },
  {
   "cell_type": "markdown",
   "id": "77af9d12",
   "metadata": {},
   "source": [
    "# Correlation Between Cytokines and Metabolites at Baseline1 "
   ]
  },
  {
   "cell_type": "code",
   "execution_count": 14,
   "id": "b7138565",
   "metadata": {},
   "outputs": [],
   "source": [
    "cytokines = list(df.columns[0:29])"
   ]
  },
  {
   "cell_type": "code",
   "execution_count": 15,
   "id": "ae14672d",
   "metadata": {},
   "outputs": [],
   "source": [
    "metabolites = list(df.columns[29:113])"
   ]
  },
  {
   "cell_type": "code",
   "execution_count": 16,
   "id": "7312cbe2",
   "metadata": {},
   "outputs": [],
   "source": [
    "mask = significant_results['Variable1'].isin(metabolites) & significant_results['Variable2'].isin(cytokines)\n",
    "\n",
    "# Use the mask to select rows containing both 'variable 1' and 'variable 2' in the metabolites list\n",
    "filtered_df = significant_results[mask]\n",
    "\n",
    "# Display the filtered DataFrame\n",
    "print(filtered_df)"
   ]
  },
  {
   "cell_type": "code",
   "execution_count": 17,
   "id": "54b3299b",
   "metadata": {},
   "outputs": [],
   "source": [
    "corr = {\n",
    "    'Source': [\"Cholesterol\", \"Cholesterol\", \"Lysine\", \"2,3-Butanediol\", \"2-Aminoheptanedioic acid\", \"4-Aminobutanoic acid\", \"Arachidonic acid\", \"Butanoic acid, 2,4-bis[(trimethylsilyl)oxy]\", \"Indole-3-Latic Acid\", 'Diethanolamine'],\n",
    " \n",
    "    'Target':  [\"IL-10 (56)_T1\", \"Osteopontin (OPN)\", \"BAFF/TNFSF13B (37)_T1\", \"Pentraxin-3\", \"IL-29/IFN-lambda1\", \"IL-29/IFN-lambda1\", \"sTNF-R1\", \"BAFF/TNFSF13B\", 'BAFF/TNFSF13B', 'sCD163'],\n",
    "\n",
    "    'Correlation': [0.636364, 0.692073, 0.705170, 0.729487, 0.762209, 0.766871, 0.780260, 0.819576, 0.820672, 1]\n",
    "}\n",
    "\n",
    "\n",
    "links_df = pd.DataFrame(corr)\n"
   ]
  },
  {
   "cell_type": "code",
   "execution_count": 18,
   "id": "5274032c",
   "metadata": {
    "scrolled": false
   },
   "outputs": [],
   "source": [
    "import holoviews as hv\n",
    "from holoviews import opts, dim\n",
    "import holoviews.plotting.bokeh\n",
    "hv.extension('bokeh')\n",
    "hv.output(size=250)\n",
    "\n",
    "corr = {\n",
    "    'Source': [\"Cholesterol\", \"Cholesterol\", \"Lysine\", \"2,3-Butanediol\", \"2-Aminoheptanedioic acid\", \"4-Aminobutanoic acid\", \"Arachidonic acid\", \"Butanoic acid, 2,4-bis[(trimethylsilyl)oxy]\", \"Indole-3-Latic Acid\", \"Diethanolamine\"],\n",
    " \n",
    "    'Target':  [\"IL-10 (56)_T1\", \"Osteopontin (OPN)\", \"BAFF/TNFSF13B (37)_T1\", \"Pentraxin-3\", \"IL-29/IFN-lambda1\", \"IL-29/IFN-lambda1\", \"sTNF-R1\", \"BAFF/TNFSF13B\", 'BAFF/TNFSF13B', 'sCD163'],\n",
    "\n",
    "    'Correlation': [0.636364, 0.692073, 0.705170, 0.729487, 0.762209, 0.766871, 0.780260, 0.819576, 0.820672, 1]\n",
    "}\n",
    "\n",
    "links_df = pd.DataFrame(corr)\n",
    "\n",
    "# Sample nodes data\n",
    "nodes = [\"Cholesterol\", \"Cholesterol\", \"Lysine\", \"2,3-Butanediol\", \"2-Aminoheptanedioic acid\", \"4-Aminobutanoic acid\", \"Arachidonic acid\", \"Butanoic acid, 2,4-bis[(trimethylsilyl)oxy]\", \"Indole-3-Latic Acid\", 'Diethanolamine',\n",
    "\"IL-10 (56)_T1\", \"Osteopontin (OPN)\", \"BAFF/TNFSF13B (37)_T1\", \"Pentraxin-3\", \"IL-29/IFN-lambda1\", \"IL-29/IFN-lambda1\", \"sTNF-R1\", \"BAFF/TNFSF13B\", 'BAFF/TNFSF13B', 'sCD163']\n",
    "\n",
    "nodes_df = pd.DataFrame(nodes)\n",
    "nodes_df.rename(columns={nodes_df.columns[0]: 'node'}, inplace=True)\n",
    "node = hv.Dataset(pd.DataFrame(nodes_df['node']))\n",
    "\n",
    "# Create HoloViews Chord Diagram\n",
    "chord = hv.Chord((links_df, node)).select(value=(None, None))\n",
    "\n",
    "#custom_colormap = {True: 'blue', False: 'red'}\n",
    "#links_df['Positive'] = links_df['Value'] > 0\n",
    "#edge_colors = links_df['Positive'].map(custom_colormap)\n",
    "\n",
    "\n",
    "# Customize chart options\n",
    "chord.opts(opts.Chord(cmap='Category20', \n",
    "                edge_cmap='Category20',\n",
    "                edge_color=dim('Source').str(),\n",
    "                labels='node',\n",
    "                edge_line_width=4,\n",
    "                node_color=dim('node').str(),\n",
    "                label_text_font_size='12pt'))\n"
   ]
  },
  {
   "cell_type": "code",
   "execution_count": null,
   "id": "b61bfed4",
   "metadata": {},
   "outputs": [],
   "source": []
  }
 ],
 "metadata": {
  "kernelspec": {
   "display_name": "Python 3 (ipykernel)",
   "language": "python",
   "name": "python3"
  }
 },
 "nbformat": 4,
 "nbformat_minor": 5
}
