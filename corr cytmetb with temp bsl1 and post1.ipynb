{
 "cells": [
  {
   "cell_type": "code",
   "execution_count": 1,
   "metadata": {},
   "outputs": [],
   "source": [
    "import pandas as pd\n",
    "import numpy as np\n",
    "import seaborn as sns\n",
    "import matplotlib.pyplot as plt\n",
    "import warnings\n",
    "warnings.filterwarnings(\"ignore\")\n",
    "from scipy.stats import spearmanr\n",
    "from statsmodels.stats.multitest import multipletests\n",
    "from sklearn.preprocessing import StandardScaler\n",
    "from matplotlib import colors\n",
    "import networkx as nx"
   ]
  },
  {
   "cell_type": "code",
   "execution_count": 2,
   "metadata": {},
   "outputs": [],
   "source": [
    "df1 = pd.read_excel('C:/Users/onifa/Downloads/rest/T1.xlsx')\n",
    "df2 = pd.read_excel('C:/Users/onifa/Downloads/rest/T2.xlsx')"
   ]
  },
  {
   "cell_type": "code",
   "execution_count": 3,
   "metadata": {},
   "outputs": [],
   "source": [
    "temp4 = df2.iloc[:, 11:17] - df1.iloc[:, 11:17]"
   ]
  },
  {
   "cell_type": "code",
   "execution_count": 4,
   "metadata": {},
   "outputs": [],
   "source": [
    "metabolites = df2.iloc[:, 46:130] - df1.iloc[:, 46:130]\n",
    "cytokines = df2.iloc[:, 17:46] - df1.iloc[:, 17:46]\n",
    "metacyte = df2.iloc[:, 17:130] - df1.iloc[:, 17:130]"
   ]
  },
  {
   "cell_type": "code",
   "execution_count": 5,
   "metadata": {},
   "outputs": [],
   "source": [
    "concat = [metacyte, temp4 ]\n",
    "metacyte_temp = pd.concat(concat, axis=1)"
   ]
  },
  {
   "cell_type": "code",
   "execution_count": 6,
   "metadata": {},
   "outputs": [],
   "source": [
    "columns = metacyte_temp.columns\n",
    "spearman_corr_matrix = pd.DataFrame(index=columns, columns=columns)\n",
    "p_values_matrix = pd.DataFrame(index=columns, columns=columns)\n",
    "\n",
    "for i in range(len(columns)):\n",
    "    for j in range(i, len(columns)):\n",
    "        col1, col2 = columns[i], columns[j]\n",
    "        spearman_corr, p_value = spearmanr(metacyte_temp[col1], metacyte_temp[col2])\n",
    "        spearman_corr_matrix.loc[col1, col2] = spearman_corr\n",
    "        spearman_corr_matrix.loc[col2, col1] = spearman_corr\n",
    "        p_values_matrix.loc[col1, col2] = p_value\n",
    "        p_values_matrix.loc[col2, col1] = p_value\n",
    "\n",
    "spearman_corr_matrix = spearman_corr_matrix.apply(pd.to_numeric, errors='coerce')"
   ]
  },
  {
   "cell_type": "code",
   "execution_count": 7,
   "metadata": {},
   "outputs": [],
   "source": [
    "significance_level = 0.05\n",
    "significant_correlations = np.abs(p_values_matrix) < significance_level \n",
    "\n",
    "# Select only the upper triangle of the correlation matrix to avoid duplicates\n",
    "upper_triangle = np.triu(np.ones(p_values_matrix.shape), k=1)\n",
    "\n",
    "# Apply the significance filter and upper triangle mask\n",
    "significant_upper_triangle = np.logical_and(significant_correlations, upper_triangle)\n",
    "\n",
    "# Extract the indices of significant correlations\n",
    "significant_indices = np.where(significant_upper_triangle)\n",
    "\n",
    "# Create a DataFrame to store the results\n",
    "significant_results = pd.DataFrame({\n",
    "    'Variable1': spearman_corr_matrix.columns[significant_indices[1]],\n",
    "    'Variable2': spearman_corr_matrix.columns[significant_indices[0]],\n",
    "    'Correlation': spearman_corr_matrix.values[significant_indices],\n",
    "    'P-Value': p_values_matrix.values[significant_indices]\n",
    "})"
   ]
  },
  {
   "cell_type": "code",
   "execution_count": 8,
   "metadata": {},
   "outputs": [],
   "source": [
    "# Filter values above 0.5\n",
    "filtered_df = significant_results[(significant_results['Correlation'] >= 0.5) | (significant_results['Correlation'] <= -0.5)]\n",
    "\n",
    "# Sort by the 'correlation' column in descending order\n",
    "sorted_df = filtered_df.sort_values(by='Correlation', ascending=False)\n",
    "\n",
    "# Display the sorted DataFrame\n",
    "print(sorted_df)"
   ]
  },
  {
   "cell_type": "code",
   "execution_count": 9,
   "metadata": {},
   "outputs": [],
   "source": [
    "mask = sorted_df['Variable1'].isin(temp4) & sorted_df['Variable2'].isin(metacyte)\n",
    "\n",
    "# Use the mask to select rows containing both 'variable 1' and 'variable 2' in the metabolites list\n",
    "filtered_df = sorted_df[mask]\n",
    "\n",
    "# Display the filtered DataFrame\n",
    "print(filtered_df)"
   ]
  },
  {
   "cell_type": "code",
   "execution_count": 10,
   "metadata": {},
   "outputs": [],
   "source": [
    "corr = {\n",
    "    'Source': [\n",
    "        'Tcore', 'Mean Tskin' \n",
    "    ],\n",
    "    'Target': [\n",
    "        \"Ethanolamine\", 'IL-35 (34)_T1'\n",
    "    ],\n",
    "    'Correlation': [\n",
    "        0.506619, 0.527323\n",
    "    ]\n",
    "}\n",
    "\n",
    "\n",
    "links_df = pd.DataFrame(corr)"
   ]
  },
  {
   "cell_type": "code",
   "execution_count": 11,
   "metadata": {},
   "outputs": [],
   "source": [
    "import holoviews as hv\n",
    "from holoviews import opts, dim\n",
    "import holoviews.plotting.bokeh\n",
    "hv.extension('bokeh')\n",
    "hv.output(size=200)\n",
    "\n",
    "links_df = pd.DataFrame(corr)\n",
    "\n",
    "# Sample nodes data\n",
    "nodes = [\n",
    "        'Tcore', 'Mean Tskin',\n",
    "        \"Ethanolamine\", 'IL-35 (34)_T1'\n",
    "    ]\n",
    "nodes_df = pd.DataFrame(nodes)\n",
    "nodes_df.rename(columns={nodes_df.columns[0]: 'node'}, inplace=True)\n",
    "node = hv.Dataset(pd.DataFrame(nodes_df['node']))\n",
    "\n",
    "# Create HoloViews Chord Diagram\n",
    "chord = hv.Chord((links_df, node)).select(value=(None, None))\n",
    "\n",
    "#custom_colormap = {True: 'blue', False: 'red'}\n",
    "#links_df['Positive'] = links_df['Value'] > 0\n",
    "#edge_colors = links_df['Positive'].map(custom_colormap)\n",
    "\n",
    "\n",
    "# Customize chart options\n",
    "chord.opts(opts.Chord(cmap='Category20', \n",
    "                edge_cmap='Category20',\n",
    "                edge_color=dim('Source').str(),\n",
    "                labels='node',\n",
    "                edge_line_width= 6,\n",
    "                node_color=dim('node').str(),\n",
    "                label_text_font_size='13pt'))\n"
   ]
  }
 ],
 "metadata": {
  "kernelspec": {
   "display_name": "Python 3 (ipykernel)",
   "language": "python",
   "name": "python3"
  }
 },
 "nbformat": 4,
 "nbformat_minor": 2
}
