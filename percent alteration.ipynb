{
 "cells": [
  {
   "cell_type": "code",
   "execution_count": null,
   "metadata": {},
   "outputs": [],
   "source": [
    "\n",
    "import seaborn as sns\n",
    "import matplotlib.pyplot as plt\n",
    "import pandas as pd\n",
    "import numpy as np\n",
    "\n",
    "# Create a DataFrame with the data\n",
    "data = {\n",
    "    'conditions': ['22°C', '15°C', '8°C'],\n",
    "    'Percent Metabolites Altered': [2, 7, 4],\n",
    "    'Percent Cytokines Altered': [3, 7, 35],\n",
    "    'Pro-inflammatory Cytokines': [0, 100, 80],\n",
    "    'Anti-inflammatory Cytokines': [100, 0, 20]\n",
    "}\n",
    "\n",
    "df = pd.DataFrame(data)\n",
    "\n",
    "# Calculate the percentage of pro-inflammatory cytokines\n",
    "df['Pro-inflammatory'] = df['Percent Cytokines Altered'] * (df['Pro-inflammatory Cytokines'] / 100)\n",
    "\n",
    "# Calculate the percentage of anti-inflammatory cytokines\n",
    "df['Anti-inflammatory'] = df['Percent Cytokines Altered'] * (df['Anti-inflammatory Cytokines'] / 100)\n",
    "\n",
    "# Plot the grouped bar chart\n",
    "plt.figure(figsize=(8, 6))\n",
    "\n",
    "conditions = np.arange(len(df['conditions']))\n",
    "bar_width = 0.35\n",
    "\n",
    "# Plot the metabolites for each condition\n",
    "plt.bar(conditions - bar_width/2, df['Percent Metabolites Altered'], bar_width, label='Metabolites', color='green')\n",
    "\n",
    "# Plot the stacked cytokines for each condition\n",
    "plt.bar(conditions + bar_width/2, df['Pro-inflammatory'], bar_width, label='Pro-inflammatory', color='#ff7f0e')\n",
    "plt.bar(conditions + bar_width/2, df['Anti-inflammatory'], bar_width, bottom=df['Pro-inflammatory'], label='Anti-inflammatory', color='#17becf')\n",
    "\n",
    "#plt.title('Percentage of Cytokines and Metabolites Altered by Condition')\n",
    "plt.xlabel('Condition')\n",
    "plt.ylabel('Percentage')\n",
    "plt.xticks(conditions, df['conditions'])\n",
    "plt.legend()\n",
    "plt.show()\n"
   ]
  }
 ],
 "metadata": {
  "kernelspec": {
   "display_name": "Python 3 (ipykernel)",
   "language": "python",
   "name": "python3"
  },
  "language_info": {
   "codemirror_mode": {
    "name": "ipython",
    "version": 3
   },
   "file_extension": ".py",
   "mimetype": "text/x-python",
   "name": "python",
   "nbconvert_exporter": "python",
   "pygments_lexer": "ipython3",
   "version": "3.9.13"
  }
 },
 "nbformat": 4,
 "nbformat_minor": 2
}
